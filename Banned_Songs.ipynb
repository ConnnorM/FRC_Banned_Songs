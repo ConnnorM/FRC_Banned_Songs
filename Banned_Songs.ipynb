{
 "cells": [
  {
   "cell_type": "markdown",
   "metadata": {},
   "source": [
    "# Imports"
   ]
  },
  {
   "cell_type": "code",
   "execution_count": null,
   "metadata": {},
   "outputs": [],
   "source": [
    "import pandas as pd"
   ]
  },
  {
   "cell_type": "markdown",
   "metadata": {},
   "source": [
    "## Globals"
   ]
  },
  {
   "cell_type": "code",
   "execution_count": null,
   "metadata": {},
   "outputs": [],
   "source": [
    "year = 2024"
   ]
  },
  {
   "cell_type": "markdown",
   "metadata": {},
   "source": [
    "## Code"
   ]
  },
  {
   "cell_type": "code",
   "execution_count": null,
   "metadata": {},
   "outputs": [],
   "source": [
    "# Import song list from csv\n",
    "raw_list = pd.read_csv(\"./Data/%s/%s-first-do-not-play.csv\" % (year, year))"
   ]
  },
  {
   "cell_type": "code",
   "execution_count": null,
   "metadata": {},
   "outputs": [],
   "source": [
    "# Remove extra header lines\n",
    "rows_to_drop = raw_list[(raw_list['Year'] == 'Year') &\n",
    "                        (raw_list['Artist'] == 'Artist') &\n",
    "                        (raw_list['Song Title'] == 'Song Title') &\n",
    "                        (raw_list['Reason'] == 'Reason')].index\n",
    "df = raw_list.drop(rows_to_drop)"
   ]
  },
  {
   "cell_type": "code",
   "execution_count": null,
   "metadata": {},
   "outputs": [],
   "source": [
    "# Combine redundant reasons and standardize naming scheme\n",
    "df.rename(columns={'Song Title': 'Title'}, inplace=True)\n",
    "df['Reason'] = df['Reason'].str.lower()\n",
    "df['Reason'] = df['Reason'].fillna('n/a')\n",
    "df['Reason'] = df['Reason'].replace('reason', 'n/a')\n",
    "df['Reason'] = df['Reason'].replace('drinking / drugs / p', 'drinking / drugs / partying')\n",
    "df['Reason'] = df['Reason'].replace('sexual content', 'content - sexual')\n",
    "df['Reason'] = df['Reason'].replace('language / content', 'language')\n",
    "df['Reason'] = df['Reason'].replace('language/content - sad', 'content - sad')"
   ]
  },
  {
   "cell_type": "code",
   "execution_count": 56,
   "metadata": {},
   "outputs": [],
   "source": [
    "# Save cleaned data. Can be used with the CSV to Spotify app\n",
    "df.to_csv('./Data/%s/%s_clean.csv' % (year, year), index=False)"
   ]
  },
  {
   "cell_type": "code",
   "execution_count": null,
   "metadata": {},
   "outputs": [],
   "source": [
    "# NEED TO DROP REASON AND YEAR or spotify playlist converter might get confused\n",
    "# also get rid of anything related to feat. or ft./ or whatever from all columns and maybe if it has a space after?"
   ]
  }
 ],
 "metadata": {
  "kernelspec": {
   "display_name": "Python 3",
   "language": "python",
   "name": "python3"
  },
  "language_info": {
   "codemirror_mode": {
    "name": "ipython",
    "version": 3
   },
   "file_extension": ".py",
   "mimetype": "text/x-python",
   "name": "python",
   "nbconvert_exporter": "python",
   "pygments_lexer": "ipython3",
   "version": "3.11.4"
  }
 },
 "nbformat": 4,
 "nbformat_minor": 2
}
